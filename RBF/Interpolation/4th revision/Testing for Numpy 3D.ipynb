{
 "cells": [
  {
   "metadata": {
    "ExecuteTime": {
     "end_time": "2024-04-15T09:48:17.273152Z",
     "start_time": "2024-04-15T09:48:17.265339Z"
    }
   },
   "cell_type": "code",
   "source": [
    "import numpy as np\n",
    "\n",
    "import matplotlib.pyplot as plt\n",
    "import matplotx\n",
    "from matplotlib import cm\n",
    "from matplotlib.colors import LinearSegmentedColormap\n",
    "from matplotlib.colors import ListedColormap\n",
    "\n",
    "#mpl.use('Qt5Agg')\n",
    "plt.rcParams['figure.figsize'] = (10, 10)\n",
    "plt.rcParams['figure.dpi'] = 200\n",
    "custom_colors = {\n",
    "    \"Blue\": \"#61AFEF\",\n",
    "    \"Orange\": \"#D49F6E\",\n",
    "    \"Green\": \"#98C379\",\n",
    "    \"Rose\": \"#E06C75\",\n",
    "    \"Purple\": \"#C678DD\",\n",
    "    \"Gold\": \"#E5C07B\",\n",
    "    \"Cyan\": \"#36AABA\",\n",
    "\n",
    "    0: \"#61AFEF\",\n",
    "    1: \"#D49F6E\",\n",
    "    2: \"#98C379\",\n",
    "    3: \"#E06C75\",\n",
    "    4: \"#C678DD\",\n",
    "    5: \"#E5C07B\",\n",
    "    6: \"#36AABA\",\n",
    "\n",
    "    \"LightCyan\": \"#56B6C2\",\n",
    "\n",
    "\n",
    "    \"AltOrange\": \"#D19A66\",\n",
    "    \"Red\": \"#BE5046\",\n",
    "\n",
    "\n",
    "    \"RoyaBlue\": \"#528BFF\",\n",
    "\n",
    "    \"Gray\": \"#ABB2BF\",\n",
    "    \"LightGray\": \"#CCCCCC\",\n",
    "\n",
    "    \"LightBlack\": \"#282C34\",\n",
    "    \"Black\": \"#1D2025\"\n",
    "}\n",
    "plt.style.use(matplotx.styles.onedark)\n",
    "\n",
    "cmap = LinearSegmentedColormap.from_list('mycmap', [custom_colors[i] for i in range(2)])\n",
    "cmap_2 = ListedColormap([custom_colors[i] for i in range(5)])\n",
    "\n",
    "\n",
    "def multiQuad_kernel(x: float, radius: float):\n",
    "    return np.sqrt(1 + (16*x/radius)**2)"
   ],
   "id": "127ac40cc2d0a33",
   "outputs": [],
   "execution_count": 7
  },
  {
   "metadata": {
    "ExecuteTime": {
     "end_time": "2024-04-15T09:48:17.306573Z",
     "start_time": "2024-04-15T09:48:17.301170Z"
    }
   },
   "cell_type": "code",
   "source": [
    "#Datos muestreados\n",
    "x_0 = np.linspace(-5, 5, 15)\n",
    "y_0 = np.linspace(-5, 5, 15)\n",
    "x_0, y_0 = np.meshgrid(x_0, y_0)\n",
    "z = 1 - abs(x_0+y_0)-abs(y_0-x_0)\n",
    "\n",
    "pairs = np.asarray([x_0.ravel(), y_0.ravel()]).T\n",
    "\n",
    "# Variables\n",
    "radius = 1"
   ],
   "id": "f28cad493a557713",
   "outputs": [],
   "execution_count": 8
  },
  {
   "metadata": {
    "ExecuteTime": {
     "end_time": "2024-04-15T09:48:17.450075Z",
     "start_time": "2024-04-15T09:48:17.338608Z"
    }
   },
   "cell_type": "code",
   "source": [
    "# Inicio del método para la interpolación con RBF\n",
    "phi_matrix = np.array([multiQuad_kernel(np.linalg.norm(pairs - rbf_pos, axis=1), radius) for rbf_pos in pairs])\n",
    "f_matrix = z.ravel()\n",
    "weights_matrix = np.linalg.solve(phi_matrix, f_matrix)"
   ],
   "id": "46f148e64bb28bd4",
   "outputs": [],
   "execution_count": 9
  },
  {
   "metadata": {
    "ExecuteTime": {
     "end_time": "2024-04-15T09:48:17.455468Z",
     "start_time": "2024-04-15T09:48:17.451086Z"
    }
   },
   "cell_type": "code",
   "source": [
    "# Función interpolada\n",
    "def interpolate_RBF(x: float, radius: float):\n",
    "    temp = 0\n",
    "    for (rbf_pos, w) in zip(pairs, weights_matrix):\n",
    "        temp += w * multiQuad_kernel(np.linalg.norm(x - rbf_pos), radius)\n",
    "    return temp"
   ],
   "id": "32c28f701d2f28c5",
   "outputs": [],
   "execution_count": 10
  },
  {
   "metadata": {
    "ExecuteTime": {
     "end_time": "2024-04-15T09:48:17.467929Z",
     "start_time": "2024-04-15T09:48:17.456478Z"
    }
   },
   "cell_type": "code",
   "source": [
    "# Interpolación\n",
    "step = 1000\n",
    "\n",
    "x_RBF = np.linspace(-5, 5, step)\n",
    "y_RBF = np.linspace(-5, 5, step)\n",
    "x_RBF, y_RBF = np.meshgrid(x_RBF, y_RBF)\n",
    "\n",
    "pairs_2 = np.asarray([x_RBF.ravel(), y_RBF.ravel()]).T"
   ],
   "id": "340cd372fa3bd6db",
   "outputs": [],
   "execution_count": 11
  },
  {
   "metadata": {
    "ExecuteTime": {
     "end_time": "2024-04-15T09:53:31.762158Z",
     "start_time": "2024-04-15T09:48:17.469938Z"
    }
   },
   "cell_type": "code",
   "source": [
    "z_RBF = [interpolate_RBF(pair, radius) for pair in pairs_2]\n",
    "len(z_RBF)"
   ],
   "id": "46777e619b752338",
   "outputs": [
    {
     "ename": "KeyboardInterrupt",
     "evalue": "",
     "output_type": "error",
     "traceback": [
      "\u001B[1;31m---------------------------------------------------------------------------\u001B[0m",
      "\u001B[1;31mKeyboardInterrupt\u001B[0m                         Traceback (most recent call last)",
      "Cell \u001B[1;32mIn[12], line 1\u001B[0m\n\u001B[1;32m----> 1\u001B[0m z_RBF \u001B[38;5;241m=\u001B[39m [\u001B[43minterpolate_RBF\u001B[49m\u001B[43m(\u001B[49m\u001B[43mpair\u001B[49m\u001B[43m,\u001B[49m\u001B[43m \u001B[49m\u001B[43mradius\u001B[49m\u001B[43m)\u001B[49m \u001B[38;5;28;01mfor\u001B[39;00m pair \u001B[38;5;129;01min\u001B[39;00m pairs_2]\n\u001B[0;32m      2\u001B[0m \u001B[38;5;28mlen\u001B[39m(z_RBF)\n",
      "Cell \u001B[1;32mIn[10], line 5\u001B[0m, in \u001B[0;36minterpolate_RBF\u001B[1;34m(x, radius)\u001B[0m\n\u001B[0;32m      3\u001B[0m temp \u001B[38;5;241m=\u001B[39m \u001B[38;5;241m0\u001B[39m\n\u001B[0;32m      4\u001B[0m \u001B[38;5;28;01mfor\u001B[39;00m (rbf_pos, w) \u001B[38;5;129;01min\u001B[39;00m \u001B[38;5;28mzip\u001B[39m(pairs, weights_matrix):\n\u001B[1;32m----> 5\u001B[0m     temp \u001B[38;5;241m+\u001B[39m\u001B[38;5;241m=\u001B[39m w \u001B[38;5;241m*\u001B[39m multiQuad_kernel(\u001B[43mnp\u001B[49m\u001B[38;5;241;43m.\u001B[39;49m\u001B[43mlinalg\u001B[49m\u001B[38;5;241;43m.\u001B[39;49m\u001B[43mnorm\u001B[49m\u001B[43m(\u001B[49m\u001B[43mx\u001B[49m\u001B[43m \u001B[49m\u001B[38;5;241;43m-\u001B[39;49m\u001B[43m \u001B[49m\u001B[43mrbf_pos\u001B[49m\u001B[43m)\u001B[49m, radius)\n\u001B[0;32m      6\u001B[0m \u001B[38;5;28;01mreturn\u001B[39;00m temp\n",
      "File \u001B[1;32mC:\\Python312\\Lib\\site-packages\\numpy\\linalg\\linalg.py:2552\u001B[0m, in \u001B[0;36mnorm\u001B[1;34m(x, ord, axis, keepdims)\u001B[0m\n\u001B[0;32m   2550\u001B[0m     sqnorm \u001B[38;5;241m=\u001B[39m x_real\u001B[38;5;241m.\u001B[39mdot(x_real) \u001B[38;5;241m+\u001B[39m x_imag\u001B[38;5;241m.\u001B[39mdot(x_imag)\n\u001B[0;32m   2551\u001B[0m \u001B[38;5;28;01melse\u001B[39;00m:\n\u001B[1;32m-> 2552\u001B[0m     sqnorm \u001B[38;5;241m=\u001B[39m \u001B[43mx\u001B[49m\u001B[38;5;241;43m.\u001B[39;49m\u001B[43mdot\u001B[49m\u001B[43m(\u001B[49m\u001B[43mx\u001B[49m\u001B[43m)\u001B[49m\n\u001B[0;32m   2553\u001B[0m ret \u001B[38;5;241m=\u001B[39m sqrt(sqnorm)\n\u001B[0;32m   2554\u001B[0m \u001B[38;5;28;01mif\u001B[39;00m keepdims:\n",
      "\u001B[1;31mKeyboardInterrupt\u001B[0m: "
     ]
    }
   ],
   "execution_count": 12
  },
  {
   "metadata": {
    "ExecuteTime": {
     "end_time": "2024-04-15T09:53:31.764167Z",
     "start_time": "2024-04-15T09:53:31.763165Z"
    }
   },
   "cell_type": "code",
   "source": [
    "z_RBF = np.array_split(z_RBF, x_RBF.shape[0])\n",
    "z_RBF = np.stack(z_RBF, axis=0)"
   ],
   "id": "394ed2dbf32cc2a",
   "outputs": [],
   "execution_count": null
  },
  {
   "metadata": {},
   "cell_type": "code",
   "source": [
    "# Plotting\n",
    "ax = plt.axes(projection=\"3d\")\n",
    "surf = ax.plot_surface(x_RBF, y_RBF, z_RBF, cmap=cm.bone, antialiased=True, alpha=0.8, zorder=1)\n",
    "scat = ax.scatter3D(x_0, y_0, z, c=z, cmap=cmap_2)\n",
    "\n",
    "ax.xaxis.set_pane_color((1.0, 1.0, 1.0, 0.0))\n",
    "ax.yaxis.set_pane_color((1.0, 1.0, 1.0, 0.0))\n",
    "ax.zaxis.set_pane_color((1.0, 1.0, 1.0, 0.0))\n",
    "\n",
    "plt.show()"
   ],
   "id": "5ce3d823b2a88acf",
   "outputs": [],
   "execution_count": null
  },
  {
   "metadata": {},
   "cell_type": "code",
   "source": "",
   "id": "2e35cef839e145c7",
   "outputs": [],
   "execution_count": null
  }
 ],
 "metadata": {
  "kernelspec": {
   "display_name": "Python 3",
   "language": "python",
   "name": "python3"
  },
  "language_info": {
   "codemirror_mode": {
    "name": "ipython",
    "version": 2
   },
   "file_extension": ".py",
   "mimetype": "text/x-python",
   "name": "python",
   "nbconvert_exporter": "python",
   "pygments_lexer": "ipython2",
   "version": "2.7.6"
  }
 },
 "nbformat": 4,
 "nbformat_minor": 5
}
