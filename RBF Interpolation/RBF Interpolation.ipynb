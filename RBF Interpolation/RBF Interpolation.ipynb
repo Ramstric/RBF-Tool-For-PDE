{
 "cells": [
  {
   "cell_type": "markdown",
   "source": [
    "# Interpolation Method through Radial Basis Functions\n",
    "\n",
    "#### Primero hay que definir que es interpolación.\n",
    "\n",
    "Por definición, la interpolación es una técnica que se utiliza para agregar **nuevos puntos de datos** dentro del rango de un conjunto de datos previamente conocidos.\n",
    "\n",
    "Es decir que la interpolación nos permite rellenar datos faltantes, suavizar datos existentes y hacer predicciones.\n",
    "\n",
    "Por lo tanto, lo que buscamos es lograr el método de interpolación mediante las llamadas **funciones de base radial**.\n",
    "\n",
    "Antes de continuar considero importante establecer el termino de **peso** en temas de matemáticas. \n",
    "\n",
    "Con peso nos referimos a un entero positivo que multiplica un dato cualquiera, lo cual nos indica la importancia de dicho dato dentro de un conjunto.\n",
    "\n",
    "Por ejemplo, si tenemos un conjunto de datos a, b, c y d, si decimos que el peso de a es 2, el peso de b es 3, el peso de c es 1 y el peso de d es 4, entonces el dato d es el más importante dentro del conjunto y por tal, el más influyente en algún cálculo se realice con dicho conjunto de datos.\n",
    "\n",
    "#### Ahora, ¿qué es una función de base radial?\n",
    "\n",
    "Una función de base radial es una función que depende de la distancia entre un punto ingresado y un punto de referencia.\n",
    "\n",
    "Osea que a medida que incrementa o decrementa la distancia entre el punto que se ingresa y el punto de referencia establecido, el valor de la función cambia de la misma manera.\n",
    "\n",
    "Una RBF muy común es la función gaussiana, la cual ejemplica este comportamiento de manera muy sencilla:\n",
    "\n",
    "\n",
    "\n",
    "Given by the equation:\n",
    "\n",
    "$$\n",
    "f(x) = \\sum_{j=1}^{N}{\\lambda_{j} \\phi(|x-x_{j}|)}\n",
    "$$\n",
    "\n",
    "It's possible to interpolate or \"predict\" the behavior of a system given N data points.\n",
    "\n",
    "Such data points are possible measurements or data taken from an experiment or phenomena. \n",
    "\n",
    "Through a RBF (Radial Basis Function), it's possible to do such task.\n",
    "\n",
    "An RBF is defined as many possible functions that on a 3D plane, they have a radius shape base (on the X-Y plane), so there are such most commonly used RBFs.\n",
    "\n",
    "For the Gaussian Function:\n",
    "\n",
    "$$\n",
    "\\phi(r) = e^{- \\left(\\varepsilon r\\right)^{2}}\n",
    "$$\n",
    "\n",
    "For the Multiquadric:\n",
    "\n",
    "$$\n",
    "\\phi(r) = \\sqrt{1 + \\left(\\varepsilon r\\right)^{2}}\n",
    "$$\n",
    "\n",
    "\n",
    "So, the result of the main equation, gives a system of equations that can be viewed as:\n",
    "\n",
    "\n",
    "\n"
   ],
   "metadata": {
    "collapsed": false
   },
   "id": "289b4fff9216728d"
  },
  {
   "cell_type": "code",
   "execution_count": null,
   "outputs": [],
   "source": [],
   "metadata": {
    "collapsed": false
   },
   "id": "7f97c22f353feba9"
  }
 ],
 "metadata": {
  "kernelspec": {
   "display_name": "Python 3",
   "language": "python",
   "name": "python3"
  },
  "language_info": {
   "codemirror_mode": {
    "name": "ipython",
    "version": 2
   },
   "file_extension": ".py",
   "mimetype": "text/x-python",
   "name": "python",
   "nbconvert_exporter": "python",
   "pygments_lexer": "ipython2",
   "version": "2.7.6"
  }
 },
 "nbformat": 4,
 "nbformat_minor": 5
}
