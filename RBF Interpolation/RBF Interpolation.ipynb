{
 "cells": [
  {
   "cell_type": "markdown",
   "source": [
    "# Interpolation Method through Radial Basis Functions\n",
    "\n",
    "Given by the equation:\n",
    "\n",
    "$$\n",
    "f(x) = \\sum_{j=1}^{N}{\\lambda_{j} \\phi(|x-x_{j}|)}\n",
    "$$\n",
    "\n",
    "It's possible to interpolate or \"predict\" the behavior of a system given N data points.\n",
    "\n",
    "Such data points are possible measurements or data taken from an experiment or phenomena. \n",
    "\n",
    "Through a RBF (Radial Basis Function), it's possible to do such task.\n",
    "\n",
    "An RBF is defined as many possible functions that on a 3D plane, they have a radius shape base (on the X-Y plane), so there are such most commonly used RBFs.\n",
    "\n",
    "For the Gaussian Function:\n",
    "\n",
    "$$\n",
    "\\phi(r) = e^{- \\left(\\varepsilon r\\right)^{2}}\n",
    "$$\n",
    "\n",
    "For the Multiquadric:\n",
    "\n",
    "$$\n",
    "\\phi(r) = \\sqrt{1 + \\left(\\varepsilon r\\right)^{2}}\n",
    "$$\n",
    "\n",
    "\n",
    "So, the result of the main equation, gives a system of equations that can be viewed as:\n",
    "\n"
   ],
   "metadata": {
    "collapsed": false
   },
   "id": "289b4fff9216728d"
  },
  {
   "cell_type": "code",
   "execution_count": null,
   "outputs": [],
   "source": [],
   "metadata": {
    "collapsed": false
   },
   "id": "7f97c22f353feba9"
  }
 ],
 "metadata": {
  "kernelspec": {
   "display_name": "Python 3",
   "language": "python",
   "name": "python3"
  },
  "language_info": {
   "codemirror_mode": {
    "name": "ipython",
    "version": 2
   },
   "file_extension": ".py",
   "mimetype": "text/x-python",
   "name": "python",
   "nbconvert_exporter": "python",
   "pygments_lexer": "ipython2",
   "version": "2.7.6"
  }
 },
 "nbformat": 4,
 "nbformat_minor": 5
}
